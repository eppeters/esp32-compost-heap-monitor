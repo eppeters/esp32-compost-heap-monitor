{
 "cells": [
  {
   "cell_type": "code",
   "execution_count": 1,
   "id": "73ba7312-19b2-4f4d-aef1-def1765de6a7",
   "metadata": {},
   "outputs": [],
   "source": [
    "import serial"
   ]
  },
  {
   "cell_type": "code",
   "execution_count": 2,
   "id": "8a7e276d-0954-4960-a146-bc8714f48ddd",
   "metadata": {},
   "outputs": [],
   "source": [
    "esp32 = serial.Serial('/dev/ttyS5', baudrate=115200, timeout=20)"
   ]
  },
  {
   "cell_type": "code",
   "execution_count": 22,
   "id": "4600b2ac-3f0f-4f64-a103-9705a613d8aa",
   "metadata": {},
   "outputs": [
    {
     "data": {
      "text/plain": [
       "b'yo'"
      ]
     },
     "execution_count": 22,
     "metadata": {},
     "output_type": "execute_result"
    }
   ],
   "source": [
    "esp32.read(2)"
   ]
  },
  {
   "cell_type": "code",
   "execution_count": 4,
   "id": "a96232d3-a2af-4e5d-83ff-5ce10971d48e",
   "metadata": {},
   "outputs": [
    {
     "ename": "UnicodeDecodeError",
     "evalue": "'utf-8' codec can't decode byte 0xda in position 21: invalid continuation byte",
     "output_type": "error",
     "traceback": [
      "\u001b[0;31m------------------------------------------------------\u001b[0m",
      "\u001b[0;31mUnicodeDecodeError\u001b[0m   Traceback (most recent call last)",
      "\u001b[0;32m<ipython-input-4-a577c81e3a1b>\u001b[0m in \u001b[0;36m<module>\u001b[0;34m\u001b[0m\n\u001b[0;32m----> 1\u001b[0;31m \u001b[0;34mb'\\x0e\\x02\\x0e\\x0e\\x06\\x02\\x0e\\x0e\\x02\\x0e\\x0e\\x02\\x06\\x06\\x06\\x06\\x06/3\\x00\\x00\\xdas\\xda@\\x00_\\x00\\x00\\xf8p\\xfe\\xfb\\xf8\\xcf\\xdf\\x00\\x00\\x03\\x07\\x0e\\x0f\\x08\\x03\\x07\\x03\\x03\\r\\x07\\x03\\r\\x03\\x08\\x03\\x07\\r\\x07\\x03\\x07\\xdf\\x07\\xae\\x03\\x02\\x06\\x06\\x02\\x04\\x04\\x04\\x0c\\x0c\\x0c[\\x18\\x00/\\x1f\\x00\\x01\\xe6\\xe7U\\x00\\x00\\x00\\x10\\x00\\x00 \\x00\\x02\\xbe\\xff\\xdf\\x11\\x00\\x00\\x00\\x00\\x00\\x00\\x00\\x01\\x00\\x13\\x00\\x00\\x00\\x7f\\xfd\\xddq\\xb9\\xd2\\xf6\\xfc\\xff\\xde\\xea\\x01\\x01\\xd7\\x01\\x00\\x02\\x10\\x00\\x80\\x01\\x02\\x800\\x00\\x04\\x00\\x00\\x08\\x00\\x00\\x00\\x00D\\xf0\\xa8y\\x08@\\x00\\x000\\x00\\x00\\x00\\x00\\x8d\\x08\\x07\\x00\\x00\\x82\\x00\\x00\\x10\\x00\\x00\\x00\\t\\x05\\x00\\x00\\x00\\x00\\x00\\x1c}\\xf9\\x7f\\xf6\\xff\\x9a\\x00\\x00\\xc0\\xfe\\x01\\x00\\x00\\x00 _\\xfb\\xec\\x86\\xf3[\\xed\\xf9\\xff\\xbd\\xfe\\xed\\xef\\xd8w\\xff\\xfdS\\xff\\xb4\\x99\\x1b_\\x1d_\\xd3\\xbf\\xfe\\xee\\xf5\\xfd\\xbe\\x86\\xf7N\\xe0\\xea\\x89M\\xff\\xff\\xf5\\x80\\n'\u001b[0m\u001b[0;34m.\u001b[0m\u001b[0mdecode\u001b[0m\u001b[0;34m(\u001b[0m\u001b[0;34m'utf8'\u001b[0m\u001b[0;34m)\u001b[0m\u001b[0;34m\u001b[0m\u001b[0;34m\u001b[0m\u001b[0m\n\u001b[0m",
      "\u001b[0;31mUnicodeDecodeError\u001b[0m: 'utf-8' codec can't decode byte 0xda in position 21: invalid continuation byte"
     ]
    }
   ],
   "source": [
    "b'\\x0e\\x02\\x0e\\x0e\\x06\\x02\\x0e\\x0e\\x02\\x0e\\x0e\\x02\\x06\\x06\\x06\\x06\\x06/3\\x00\\x00\\xdas\\xda@\\x00_\\x00\\x00\\xf8p\\xfe\\xfb\\xf8\\xcf\\xdf\\x00\\x00\\x03\\x07\\x0e\\x0f\\x08\\x03\\x07\\x03\\x03\\r\\x07\\x03\\r\\x03\\x08\\x03\\x07\\r\\x07\\x03\\x07\\xdf\\x07\\xae\\x03\\x02\\x06\\x06\\x02\\x04\\x04\\x04\\x0c\\x0c\\x0c[\\x18\\x00/\\x1f\\x00\\x01\\xe6\\xe7U\\x00\\x00\\x00\\x10\\x00\\x00 \\x00\\x02\\xbe\\xff\\xdf\\x11\\x00\\x00\\x00\\x00\\x00\\x00\\x00\\x01\\x00\\x13\\x00\\x00\\x00\\x7f\\xfd\\xddq\\xb9\\xd2\\xf6\\xfc\\xff\\xde\\xea\\x01\\x01\\xd7\\x01\\x00\\x02\\x10\\x00\\x80\\x01\\x02\\x800\\x00\\x04\\x00\\x00\\x08\\x00\\x00\\x00\\x00D\\xf0\\xa8y\\x08@\\x00\\x000\\x00\\x00\\x00\\x00\\x8d\\x08\\x07\\x00\\x00\\x82\\x00\\x00\\x10\\x00\\x00\\x00\\t\\x05\\x00\\x00\\x00\\x00\\x00\\x1c}\\xf9\\x7f\\xf6\\xff\\x9a\\x00\\x00\\xc0\\xfe\\x01\\x00\\x00\\x00 _\\xfb\\xec\\x86\\xf3[\\xed\\xf9\\xff\\xbd\\xfe\\xed\\xef\\xd8w\\xff\\xfdS\\xff\\xb4\\x99\\x1b_\\x1d_\\xd3\\xbf\\xfe\\xee\\xf5\\xfd\\xbe\\x86\\xf7N\\xe0\\xea\\x89M\\xff\\xff\\xf5\\x80\\n'.decode('utf8')"
   ]
  },
  {
   "cell_type": "code",
   "execution_count": 24,
   "id": "8689f652-86d1-4371-b08c-c24d1b1f8e39",
   "metadata": {},
   "outputs": [
    {
     "name": "stdout",
     "output_type": "stream",
     "text": [
      "receiving\n"
     ]
    },
    {
     "name": "stderr",
     "output_type": "stream",
     "text": [
      "<ipython-input-24-02aea2facf7c>:21: MatplotlibDeprecationWarning: \n",
      "The on_mappable_changed function was deprecated in Matplotlib 3.3 and will be removed two minor releases later. Use update_normal instead.\n",
      "  cbar.on_mappable_changed(therm1) # update colorbar range\n"
     ]
    },
    {
     "data": {
      "image/png": "[encoded data removed]",
      "text/plain": [
       "<Figure size 864x504 with 2 Axes>"
      ]
     },
     "metadata": {
      "needs_background": "light"
     },
     "output_type": "display_data"
    },
    {
     "name": "stdout",
     "output_type": "stream",
     "text": [
      "saving\n"
     ]
    },
    {
     "ename": "NameError",
     "evalue": "name 'picnum' is not defined",
     "output_type": "error",
     "traceback": [
      "\u001b[0;31m---------------------------------------------------------------------------\u001b[0m",
      "\u001b[0;31mNameError\u001b[0m                                 Traceback (most recent call last)",
      "\u001b[0;32m<ipython-input-24-02aea2facf7c>\u001b[0m in \u001b[0;36m<module>\u001b[0;34m\u001b[0m\n\u001b[1;32m     22\u001b[0m \u001b[0mplt\u001b[0m\u001b[0;34m.\u001b[0m\u001b[0mpause\u001b[0m\u001b[0;34m(\u001b[0m\u001b[0;36m0.001\u001b[0m\u001b[0;34m)\u001b[0m \u001b[0;31m# required\u001b[0m\u001b[0;34m\u001b[0m\u001b[0;34m\u001b[0m\u001b[0m\n\u001b[1;32m     23\u001b[0m \u001b[0mprint\u001b[0m\u001b[0;34m(\u001b[0m\u001b[0;34m'saving'\u001b[0m\u001b[0;34m)\u001b[0m\u001b[0;34m\u001b[0m\u001b[0;34m\u001b[0m\u001b[0m\n\u001b[0;32m---> 24\u001b[0;31m \u001b[0mfig\u001b[0m\u001b[0;34m.\u001b[0m\u001b[0msavefig\u001b[0m\u001b[0;34m(\u001b[0m\u001b[0;34mf'mlx90640_test_fliplr_{picnum}.png'\u001b[0m\u001b[0;34m,\u001b[0m\u001b[0mdpi\u001b[0m\u001b[0;34m=\u001b[0m\u001b[0;36m300\u001b[0m\u001b[0;34m,\u001b[0m\u001b[0mfacecolor\u001b[0m\u001b[0;34m=\u001b[0m\u001b[0;34m'#FCFCFC'\u001b[0m\u001b[0;34m,\u001b[0m \u001b[0mbbox_inches\u001b[0m\u001b[0;34m=\u001b[0m\u001b[0;34m'tight'\u001b[0m\u001b[0;34m)\u001b[0m \u001b[0;31m# comment out to speed up\u001b[0m\u001b[0;34m\u001b[0m\u001b[0;34m\u001b[0m\u001b[0m\n\u001b[0m\u001b[1;32m     25\u001b[0m \u001b[0mt_array\u001b[0m\u001b[0;34m.\u001b[0m\u001b[0mappend\u001b[0m\u001b[0;34m(\u001b[0m\u001b[0mtime\u001b[0m\u001b[0;34m.\u001b[0m\u001b[0mmonotonic\u001b[0m\u001b[0;34m(\u001b[0m\u001b[0;34m)\u001b[0m\u001b[0;34m-\u001b[0m\u001b[0mt1\u001b[0m\u001b[0;34m)\u001b[0m\u001b[0;34m\u001b[0m\u001b[0;34m\u001b[0m\u001b[0m\n",
      "\u001b[0;31mNameError\u001b[0m: name 'picnum' is not defined"
     ]
    }
   ],
   "source": [
    "import numpy as np\n",
    "import matplotlib.pyplot as plt\n",
    "import time\n",
    "\n",
    "mlx_shape = (24,32)\n",
    "\n",
    "# setup the figure for plotting\n",
    "plt.ion() # enables interactive plotting\n",
    "fig,ax = plt.subplots(figsize=(12,7))\n",
    "therm1 = ax.imshow(np.zeros(mlx_shape),vmin=0,vmax=60) #start plot with zeros\n",
    "cbar = fig.colorbar(therm1) # setup colorbar for temps\n",
    "cbar.set_label('Temperature [$^{\\circ}$C]',fontsize=14) # colorbar label\n",
    "frame = np.zeros((24*32,)) # setup array for storing all 768 temperatures\n",
    "t_array = []\n",
    "print('receiving')\n",
    "data = [int(i) for i in esp32.read(768)]\n",
    "t1 = time.monotonic()\n",
    "data_array = (np.reshape(data, mlx_shape)) # reshape to 24x32\n",
    "therm1.set_data(np.fliplr(data_array)) # flip left to right\n",
    "therm1.set_clim(vmin=np.min(data_array),vmax=np.max(data_array)) # set bounds\n",
    "cbar.on_mappable_changed(therm1) # update colorbar range\n",
    "plt.pause(0.001) # required\n",
    "print('saving')\n",
    "fig.savefig(f'mlx90640_test_fliplr.png',dpi=300,facecolor='#FCFCFC', bbox_inches='tight') # comment out to speed up\n",
    "t_array.append(time.monotonic()-t1)"
   ]
  },
  {
   "cell_type": "code",
   "execution_count": null,
   "id": "999ff411-9514-49cf-b473-4fd2e8693431",
   "metadata": {},
   "outputs": [],
   "source": []
  },
  {
   "cell_type": "code",
   "execution_count": null,
   "id": "fc1926d3-e981-436c-be65-613fccb8444d",
   "metadata": {},
   "outputs": [],
   "source": []
  }
 ],
 "metadata": {
  "kernelspec": {
   "display_name": "Python 3",
   "language": "python",
   "name": "python3"
  },
  "language_info": {
   "codemirror_mode": {
    "name": "ipython",
    "version": 3
   },
   "file_extension": ".py",
   "mimetype": "text/x-python",
   "name": "python",
   "nbconvert_exporter": "python",
   "pygments_lexer": "ipython3",
   "version": "3.8.5"
  }
 },
 "nbformat": 4,
 "nbformat_minor": 5
}
